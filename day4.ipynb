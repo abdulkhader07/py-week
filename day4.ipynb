{
 "cells": [
  {
   "cell_type": "code",
   "execution_count": 1,
   "id": "62aaa346",
   "metadata": {},
   "outputs": [],
   "source": [
    "#.........\n",
    "#tkinter\n",
    "#Geometry layout\n",
    "#widgets\n",
    "#Types of widgets\n",
    "#binding Functions\n",
    "#HandsOn (making of notepad.....project)\n",
    "#.............."
   ]
  },
  {
   "cell_type": "code",
   "execution_count": 2,
   "id": "6691e9a8",
   "metadata": {},
   "outputs": [],
   "source": [
    "#Window is created\n",
    "import tkinter as tk\n",
    "window=tk.Tk()\n",
    "window.mainloop()"
   ]
  },
  {
   "cell_type": "code",
   "execution_count": 22,
   "id": "b2e5d63e",
   "metadata": {},
   "outputs": [
    {
     "ename": "NameError",
     "evalue": "name 'title' is not defined",
     "output_type": "error",
     "traceback": [
      "\u001b[1;31m---------------------------------------------------------------------------\u001b[0m",
      "\u001b[1;31mNameError\u001b[0m                                 Traceback (most recent call last)",
      "\u001b[1;32m~\\AppData\\Local\\Temp/ipykernel_11620/2096489542.py\u001b[0m in \u001b[0;36m<module>\u001b[1;34m\u001b[0m\n\u001b[0;32m      1\u001b[0m \u001b[1;32mimport\u001b[0m \u001b[0mtkinter\u001b[0m \u001b[1;32mas\u001b[0m \u001b[0mtk\u001b[0m\u001b[1;33m\u001b[0m\u001b[1;33m\u001b[0m\u001b[0m\n\u001b[0;32m      2\u001b[0m \u001b[0mwindow\u001b[0m\u001b[1;33m=\u001b[0m\u001b[0mtk\u001b[0m\u001b[1;33m.\u001b[0m\u001b[0mTk\u001b[0m\u001b[1;33m(\u001b[0m\u001b[1;33m)\u001b[0m\u001b[1;33m\u001b[0m\u001b[1;33m\u001b[0m\u001b[0m\n\u001b[1;32m----> 3\u001b[1;33m \u001b[0mwindow\u001b[0m\u001b[1;33m=\u001b[0m\u001b[0mtitle\u001b[0m\u001b[1;33m(\u001b[0m\u001b[1;34m\"hello\"\u001b[0m\u001b[1;33m)\u001b[0m\u001b[1;33m\u001b[0m\u001b[1;33m\u001b[0m\u001b[0m\n\u001b[0m\u001b[0;32m      4\u001b[0m \u001b[0mwindow\u001b[0m\u001b[1;33m.\u001b[0m\u001b[0mgeometry\u001b[0m\u001b[1;33m(\u001b[0m\u001b[1;34m'300x300'\u001b[0m\u001b[1;33m)\u001b[0m\u001b[1;33m\u001b[0m\u001b[1;33m\u001b[0m\u001b[0m\n\u001b[0;32m      5\u001b[0m \u001b[0mwindow\u001b[0m\u001b[1;33m.\u001b[0m\u001b[0mmainloop\u001b[0m\u001b[1;33m(\u001b[0m\u001b[1;33m)\u001b[0m\u001b[1;33m\u001b[0m\u001b[1;33m\u001b[0m\u001b[0m\n",
      "\u001b[1;31mNameError\u001b[0m: name 'title' is not defined"
     ]
    }
   ],
   "source": [
    "import tkinter as tk\n",
    "window=tk.Tk()\n",
    "window=title(\"hello\")\n",
    "window.geometry('300x300')\n",
    "window.mainloop()"
   ]
  },
  {
   "cell_type": "code",
   "execution_count": 10,
   "id": "d8b565f9",
   "metadata": {},
   "outputs": [],
   "source": [
    "#making window with text\n",
    "import tkinter as tk\n",
    "window=tk.Tk()\n",
    "window.title(\"hello\")\n",
    "window.geometry('300x300')\n",
    "l1=tk.Label(window,text=\"hello its my first window\")\n",
    "l1.pack(side=tk.RIGHT)   #RIGHT,TOP,LEFT\n",
    "window.mainloop()"
   ]
  },
  {
   "cell_type": "code",
   "execution_count": null,
   "id": "12ed45ca",
   "metadata": {},
   "outputs": [],
   "source": [
    "from tkinter import *\n",
    "window=Tk()\n",
    "window.title(\"hello\")\n",
    "l1=Label(window,text=\"hwllo\")\n",
    "l1.grid(row)"
   ]
  },
  {
   "cell_type": "code",
   "execution_count": 11,
   "id": "929eeaff",
   "metadata": {},
   "outputs": [],
   "source": [
    "#click button\n",
    "from tkinter import *\n",
    "window=Tk()\n",
    "window.title(\"hello\")\n",
    "btn=Button(window,text=\"clickme\")\n",
    "btn.pack()\n",
    "window.mainloop()"
   ]
  },
  {
   "cell_type": "code",
   "execution_count": 12,
   "id": "8bbeffcd",
   "metadata": {},
   "outputs": [],
   "source": [
    "#decorating button\n",
    "from tkinter import *\n",
    "window=Tk()\n",
    "window.title(\"hello\")\n",
    "btn=Button(window,text=\"clickme\",bg=\"black\",fg=\"red\",activebackground=\"orange\",activeforeground=\"green\")\n",
    "btn.pack()\n",
    "window.mainloop()"
   ]
  },
  {
   "cell_type": "code",
   "execution_count": 13,
   "id": "20b1406d",
   "metadata": {},
   "outputs": [
    {
     "ename": "NameError",
     "evalue": "name 'Checbutton' is not defined",
     "output_type": "error",
     "traceback": [
      "\u001b[1;31m---------------------------------------------------------------------------\u001b[0m",
      "\u001b[1;31mNameError\u001b[0m                                 Traceback (most recent call last)",
      "\u001b[1;32m~\\AppData\\Local\\Temp/ipykernel_11620/3318091621.py\u001b[0m in \u001b[0;36m<module>\u001b[1;34m\u001b[0m\n\u001b[0;32m      5\u001b[0m \u001b[0mbtn\u001b[0m\u001b[1;33m=\u001b[0m\u001b[0mButton\u001b[0m\u001b[1;33m(\u001b[0m\u001b[0mwindow\u001b[0m\u001b[1;33m,\u001b[0m\u001b[0mtext\u001b[0m\u001b[1;33m=\u001b[0m\u001b[1;34m\"clickme\"\u001b[0m\u001b[1;33m,\u001b[0m\u001b[0mbg\u001b[0m\u001b[1;33m=\u001b[0m\u001b[1;34m\"black\"\u001b[0m\u001b[1;33m,\u001b[0m\u001b[0mfg\u001b[0m\u001b[1;33m=\u001b[0m\u001b[1;34m\"red\"\u001b[0m\u001b[1;33m,\u001b[0m\u001b[0mactivebackground\u001b[0m\u001b[1;33m=\u001b[0m\u001b[1;34m\"orange\"\u001b[0m\u001b[1;33m,\u001b[0m\u001b[0mactiveforeground\u001b[0m\u001b[1;33m=\u001b[0m\u001b[1;34m\"green\"\u001b[0m\u001b[1;33m)\u001b[0m\u001b[1;33m\u001b[0m\u001b[1;33m\u001b[0m\u001b[0m\n\u001b[0;32m      6\u001b[0m \u001b[0mbtn\u001b[0m\u001b[1;33m.\u001b[0m\u001b[0mpack\u001b[0m\u001b[1;33m(\u001b[0m\u001b[1;33m)\u001b[0m\u001b[1;33m\u001b[0m\u001b[1;33m\u001b[0m\u001b[0m\n\u001b[1;32m----> 7\u001b[1;33m \u001b[0mcbtn\u001b[0m\u001b[1;33m=\u001b[0m\u001b[0mChecbutton\u001b[0m\u001b[1;33m(\u001b[0m\u001b[0mwindow\u001b[0m\u001b[1;33m,\u001b[0m\u001b[0mtext\u001b[0m\u001b[1;33m=\u001b[0m\u001b[1;34m\"i agree all terms and conditions\"\u001b[0m\u001b[1;33m)\u001b[0m\u001b[1;33m\u001b[0m\u001b[1;33m\u001b[0m\u001b[0m\n\u001b[0m\u001b[0;32m      8\u001b[0m \u001b[0mcbtn\u001b[0m\u001b[1;33m.\u001b[0m\u001b[0mpack\u001b[0m\u001b[1;33m(\u001b[0m\u001b[1;33m)\u001b[0m\u001b[1;33m\u001b[0m\u001b[1;33m\u001b[0m\u001b[0m\n\u001b[0;32m      9\u001b[0m \u001b[0mv\u001b[0m\u001b[1;33m=\u001b[0m\u001b[0mStringVar\u001b[0m\u001b[1;33m(\u001b[0m\u001b[1;33m)\u001b[0m\u001b[1;33m\u001b[0m\u001b[1;33m\u001b[0m\u001b[0m\n",
      "\u001b[1;31mNameError\u001b[0m: name 'Checbutton' is not defined"
     ]
    }
   ],
   "source": [
    "#dropdown button\n",
    "from tkinter import *\n",
    "window=Tk()\n",
    "window.title(\"hello\")\n",
    "btn=Button(window,text=\"clickme\",bg=\"black\",fg=\"red\",activebackground=\"orange\",activeforeground=\"green\")\n",
    "btn.pack()\n",
    "cbtn=Checbutton(window,text=\"i agree all terms and conditions\")\n",
    "cbtn.pack()\n",
    "v=StringVar()\n",
    "option=['phys','bee','pps']\n",
    "drop_down=OptionMenu(window,*option)\n",
    "drop_drop.pack()\n",
    "window.mainloop()"
   ]
  },
  {
   "cell_type": "code",
   "execution_count": null,
   "id": "2549f477",
   "metadata": {},
   "outputs": [],
   "source": [
    "#combobox"
   ]
  },
  {
   "cell_type": "code",
   "execution_count": null,
   "id": "e05e18aa",
   "metadata": {},
   "outputs": [],
   "source": []
  },
  {
   "cell_type": "code",
   "execution_count": null,
   "id": "dadd98ea",
   "metadata": {},
   "outputs": [],
   "source": [
    "from tkinter import *\n",
    "from tkinter tk\n",
    "window=Tk()\n",
    "window.title(\"hello\")\n",
    "text_area=Text(window,bg=\"cyan\")\n",
    "text_area.pack()\n"
   ]
  },
  {
   "cell_type": "code",
   "execution_count": null,
   "id": "aa658c0b",
   "metadata": {},
   "outputs": [],
   "source": [
    "from tkinter import *\n",
    "from tkinter tk\n",
    "window=Tk()\n",
    "window.title(\"hello\")\n",
    "l1=Listbox(1,'pyton')\n",
    "l1.insert(2,'java')\n",
    "l1.insert(3,'c++')\n"
   ]
  },
  {
   "cell_type": "code",
   "execution_count": 18,
   "id": "41ab7840",
   "metadata": {},
   "outputs": [],
   "source": [
    "#showing alert window\n",
    "from tkinter import *\n",
    "from tkinter import ttk\n",
    "from tkinter import messagebox\n",
    "window=Tk()\n",
    "window.title(\"hello\")\n",
    "messagebox.showwarning(\"warning\",\"your laptop is heated\")\n",
    "window.mainloop()"
   ]
  },
  {
   "cell_type": "code",
   "execution_count": 20,
   "id": "c43b9c00",
   "metadata": {},
   "outputs": [],
   "source": [
    "#multi button are display\n",
    "from tkinter import *\n",
    "from tkinter import ttk\n",
    "from tkinter import messagebox\n",
    "window=Tk()\n",
    "window.title(\"hello\")\n",
    "my_frame=Frame(window)\n",
    "my_frame.pack()\n",
    "btn=Button(my_frame,text=\"clickme\")\n",
    "btn.pack()\n",
    "btn1=Button(my_frame,text=\"clickme\")\n",
    "btn1.pack()\n",
    "btn2=Button(my_frame,text=\"clickme\")\n",
    "btn2.pack()\n",
    "window.mainloop()"
   ]
  },
  {
   "cell_type": "code",
   "execution_count": 21,
   "id": "28db6c3c",
   "metadata": {},
   "outputs": [],
   "source": [
    "#canvas color\n",
    "from tkinter import *\n",
    "from tkinter import ttk\n",
    "from tkinter import messagebox\n",
    "window=Tk()\n",
    "window.title(\"hello\")\n",
    "cv=Canvas(window,bg=\"pink\")\n",
    "cv.pack()\n",
    "window.mainloop()"
   ]
  },
  {
   "cell_type": "code",
   "execution_count": null,
   "id": "3fc0da4c",
   "metadata": {},
   "outputs": [],
   "source": []
  },
  {
   "cell_type": "code",
   "execution_count": 23,
   "id": "2c35a29d",
   "metadata": {},
   "outputs": [],
   "source": [
    "#........binding functions.........\n",
    "#eg clicking 9 value on calculator and displaying 0 on the screen is binding funtion"
   ]
  },
  {
   "cell_type": "code",
   "execution_count": 28,
   "id": "39069b38",
   "metadata": {},
   "outputs": [
    {
     "name": "stdout",
     "output_type": "stream",
     "text": [
      "the button has pressed\n",
      "the button has pressed\n",
      "the button has pressed\n",
      "the button has pressed\n",
      "the button has pressed\n",
      "the button has pressed\n",
      "the button has pressed\n",
      "the button has pressed\n",
      "the button has pressed\n",
      "the button has pressed\n",
      "the button has pressed\n",
      "the button has pressed\n",
      "the button has pressed\n",
      "the button has pressed\n"
     ]
    }
   ],
   "source": [
    "#while cliking the button we are geting output\n",
    "from tkinter import *\n",
    "root=Tk()\n",
    "root.geometry('300x300')\n",
    "def clickme(event):\n",
    "    print(\"the button has pressed\")\n",
    "btn=Button(root,text=\"click\")\n",
    "btn.pack()\n",
    "btn.bind(\"<Button-1>\",clickme)\n",
    "root.mainloop()"
   ]
  },
  {
   "cell_type": "code",
   "execution_count": null,
   "id": "8b3f5cb3",
   "metadata": {},
   "outputs": [],
   "source": []
  },
  {
   "cell_type": "code",
   "execution_count": null,
   "id": "2edf30b6",
   "metadata": {},
   "outputs": [],
   "source": [
    "#same but leave is used\n",
    "from tkinter import *\n",
    "root=Tk()\n",
    "root.geometry('300x300')\n",
    "def clickme(event):\n",
    "    print(\"the button has pressed\")\n",
    "btn=Button(root,text=\"click\")\n",
    "btn.pack()\n",
    "btn.bind(\"<leave-1>\",clickme)\n",
    "root.mainloop()"
   ]
  },
  {
   "cell_type": "code",
   "execution_count": null,
   "id": "00c6e8b6",
   "metadata": {},
   "outputs": [],
   "source": []
  },
  {
   "cell_type": "code",
   "execution_count": null,
   "id": "77603847",
   "metadata": {},
   "outputs": [],
   "source": [
    "#scrole bar"
   ]
  }
 ],
 "metadata": {
  "kernelspec": {
   "display_name": "Python 3 (ipykernel)",
   "language": "python",
   "name": "python3"
  },
  "language_info": {
   "codemirror_mode": {
    "name": "ipython",
    "version": 3
   },
   "file_extension": ".py",
   "mimetype": "text/x-python",
   "name": "python",
   "nbconvert_exporter": "python",
   "pygments_lexer": "ipython3",
   "version": "3.9.7"
  }
 },
 "nbformat": 4,
 "nbformat_minor": 5
}
