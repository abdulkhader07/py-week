{
 "cells": [
  {
   "cell_type": "code",
   "execution_count": 3,
   "id": "d08e7546",
   "metadata": {},
   "outputs": [],
   "source": [
    "##python is indroduced in 1980\n",
    "#python is good for beginers becoz its easy \n",
    "#user friendly\n",
    "#popular language\n",
    "#companies using python..........>>>>>\n",
    "#<<<<<.........................google insta yahoo youtube netflix bittorrent hipmunk spotify bitly reddit quora"
   ]
  },
  {
   "cell_type": "code",
   "execution_count": 4,
   "id": "4298d168",
   "metadata": {},
   "outputs": [],
   "source": [
    "#easy to understand \n",
    "#portable \n",
    "#gui\n",
    "#many libraaries"
   ]
  },
  {
   "cell_type": "code",
   "execution_count": 5,
   "id": "8906fd20",
   "metadata": {},
   "outputs": [],
   "source": [
    "#just install anaconda "
   ]
  },
  {
   "cell_type": "code",
   "execution_count": 6,
   "id": "5695c69f",
   "metadata": {},
   "outputs": [
    {
     "name": "stdout",
     "output_type": "stream",
     "text": [
      "hello world\n"
     ]
    }
   ],
   "source": [
    "print(\"hello world\")"
   ]
  },
  {
   "cell_type": "code",
   "execution_count": 7,
   "id": "1a3e6891",
   "metadata": {},
   "outputs": [],
   "source": [
    "#today we are going to see \n",
    "#variables\n",
    "#data types\n",
    "#loops \n",
    "#conditional statments\n",
    "#arrays\n",
    "#functions\n",
    "#tuples\n",
    "#dictionaries\n",
    "#lists\n",
    "#string"
   ]
  },
  {
   "cell_type": "code",
   "execution_count": 8,
   "id": "95e91d87",
   "metadata": {},
   "outputs": [
    {
     "name": "stdout",
     "output_type": "stream",
     "text": [
      "10\n",
      "john\n"
     ]
    }
   ],
   "source": [
    "#variables are like containers which store data\n",
    "x=10\n",
    "y=\"john\"\n",
    "print(x)\n",
    "print(y)"
   ]
  },
  {
   "cell_type": "code",
   "execution_count": 9,
   "id": "fec7a13f",
   "metadata": {},
   "outputs": [],
   "source": [
    "#x is a container which is storing data 10"
   ]
  },
  {
   "cell_type": "code",
   "execution_count": null,
   "id": "52686756",
   "metadata": {},
   "outputs": [],
   "source": []
  },
  {
   "cell_type": "code",
   "execution_count": 10,
   "id": "5399a562",
   "metadata": {},
   "outputs": [],
   "source": [
    "#tuples\n",
    "#dictionaries\n",
    "#lists\n",
    "#string"
   ]
  },
  {
   "cell_type": "code",
   "execution_count": null,
   "id": "0372ef90",
   "metadata": {},
   "outputs": [],
   "source": []
  },
  {
   "cell_type": "code",
   "execution_count": 11,
   "id": "4fd580c9",
   "metadata": {},
   "outputs": [
    {
     "data": {
      "text/plain": [
       "int"
      ]
     },
     "execution_count": 11,
     "metadata": {},
     "output_type": "execute_result"
    }
   ],
   "source": [
    "#numbers\n",
    "x=10\n",
    "type(x)"
   ]
  },
  {
   "cell_type": "code",
   "execution_count": 13,
   "id": "347afec2",
   "metadata": {},
   "outputs": [
    {
     "name": "stdout",
     "output_type": "stream",
     "text": [
      "10.33\n"
     ]
    },
    {
     "data": {
      "text/plain": [
       "float"
      ]
     },
     "execution_count": 13,
     "metadata": {},
     "output_type": "execute_result"
    }
   ],
   "source": [
    "c = 10.33\n",
    "print(c)\n",
    "type(c)"
   ]
  },
  {
   "cell_type": "code",
   "execution_count": 14,
   "id": "ccb02497",
   "metadata": {},
   "outputs": [
    {
     "data": {
      "text/plain": [
       "complex"
      ]
     },
     "execution_count": 14,
     "metadata": {},
     "output_type": "execute_result"
    }
   ],
   "source": [
    "v = 10j\n",
    "type(v)"
   ]
  },
  {
   "cell_type": "code",
   "execution_count": null,
   "id": "6d8ea870",
   "metadata": {},
   "outputs": [],
   "source": []
  },
  {
   "cell_type": "code",
   "execution_count": 15,
   "id": "63c69260",
   "metadata": {},
   "outputs": [
    {
     "name": "stdout",
     "output_type": "stream",
     "text": [
      "adnanmohd\n"
     ]
    }
   ],
   "source": [
    "#strings\n",
    "name = \"adnanmohd\"\n",
    "print(name)"
   ]
  },
  {
   "cell_type": "code",
   "execution_count": null,
   "id": "c869fcc9",
   "metadata": {},
   "outputs": [],
   "source": []
  },
  {
   "cell_type": "code",
   "execution_count": 16,
   "id": "54e87662",
   "metadata": {},
   "outputs": [
    {
     "data": {
      "text/plain": [
       "9"
      ]
     },
     "execution_count": 16,
     "metadata": {},
     "output_type": "execute_result"
    }
   ],
   "source": [
    "#length, upper, lower\n",
    "len(name)"
   ]
  },
  {
   "cell_type": "code",
   "execution_count": 19,
   "id": "ae26f927",
   "metadata": {},
   "outputs": [
    {
     "data": {
      "text/plain": [
       "'n'"
      ]
     },
     "execution_count": 19,
     "metadata": {},
     "output_type": "execute_result"
    }
   ],
   "source": [
    "#grab element from name\n",
    "name[2]"
   ]
  },
  {
   "cell_type": "code",
   "execution_count": 20,
   "id": "8418cd6d",
   "metadata": {},
   "outputs": [
    {
     "data": {
      "text/plain": [
       "'ADNANMOHD'"
      ]
     },
     "execution_count": 20,
     "metadata": {},
     "output_type": "execute_result"
    }
   ],
   "source": [
    "name.upper()"
   ]
  },
  {
   "cell_type": "code",
   "execution_count": 21,
   "id": "5af27b57",
   "metadata": {},
   "outputs": [
    {
     "data": {
      "text/plain": [
       "'adnanmohd'"
      ]
     },
     "execution_count": 21,
     "metadata": {},
     "output_type": "execute_result"
    }
   ],
   "source": [
    "name.lower()"
   ]
  },
  {
   "cell_type": "code",
   "execution_count": 22,
   "id": "abd15a54",
   "metadata": {},
   "outputs": [
    {
     "data": {
      "text/plain": [
       "'d'"
      ]
     },
     "execution_count": 22,
     "metadata": {},
     "output_type": "execute_result"
    }
   ],
   "source": [
    "#printing last word from name\n",
    "name[-1]"
   ]
  },
  {
   "cell_type": "code",
   "execution_count": null,
   "id": "713f292c",
   "metadata": {},
   "outputs": [],
   "source": []
  },
  {
   "cell_type": "code",
   "execution_count": 23,
   "id": "59de720d",
   "metadata": {},
   "outputs": [
    {
     "data": {
      "text/plain": [
       "'h'"
      ]
     },
     "execution_count": 23,
     "metadata": {},
     "output_type": "execute_result"
    }
   ],
   "source": [
    "name[-2]"
   ]
  },
  {
   "cell_type": "code",
   "execution_count": 26,
   "id": "47a4ed4b",
   "metadata": {},
   "outputs": [
    {
     "name": "stdout",
     "output_type": "stream",
     "text": [
      "['mango', 'banana', 'grapes']\n"
     ]
    },
    {
     "data": {
      "text/plain": [
       "list"
      ]
     },
     "execution_count": 26,
     "metadata": {},
     "output_type": "execute_result"
    }
   ],
   "source": [
    "#list,tuple and dictionaries\n",
    "\n",
    "fruits = [\"mango\",\"banana\",\"grapes\"]\n",
    "print(fruits)\n",
    "type(fruits)"
   ]
  },
  {
   "cell_type": "code",
   "execution_count": null,
   "id": "a66ac2ff",
   "metadata": {},
   "outputs": [],
   "source": []
  },
  {
   "cell_type": "code",
   "execution_count": 30,
   "id": "ed851e49",
   "metadata": {},
   "outputs": [
    {
     "name": "stdout",
     "output_type": "stream",
     "text": [
      "[10, 10, 20, 40, 'adnan', 'pyweek']\n"
     ]
    },
    {
     "data": {
      "text/plain": [
       "'adnan'"
      ]
     },
     "execution_count": 30,
     "metadata": {},
     "output_type": "execute_result"
    }
   ],
   "source": [
    "mylist = [10,10,20,40,\"adnan\",\"pyweek\"]\n",
    "print(mylist)\n",
    "mylist[2]\n",
    "mylist[0]\n",
    "mylist[4]"
   ]
  },
  {
   "cell_type": "code",
   "execution_count": null,
   "id": "d71db066",
   "metadata": {},
   "outputs": [],
   "source": []
  },
  {
   "cell_type": "code",
   "execution_count": 32,
   "id": "09ca3a78",
   "metadata": {},
   "outputs": [
    {
     "data": {
      "text/plain": [
       "[10, 10, 20, 40, 'adnan', 'pyweek', 45, 45]"
      ]
     },
     "execution_count": 32,
     "metadata": {},
     "output_type": "execute_result"
    }
   ],
   "source": [
    "#to add data at the end of the list\n",
    "mylist.append(45)\n",
    "mylist"
   ]
  },
  {
   "cell_type": "code",
   "execution_count": 33,
   "id": "f2a84b2f",
   "metadata": {},
   "outputs": [
    {
     "data": {
      "text/plain": [
       "[10, 10, 20, 40, 'adnan', 100, 'pyweek', 45, 45]"
      ]
     },
     "execution_count": 33,
     "metadata": {},
     "output_type": "execute_result"
    }
   ],
   "source": [
    "#to insert elements in our desired position\n",
    "mylist.insert(5,100)\n",
    "mylist"
   ]
  },
  {
   "cell_type": "code",
   "execution_count": null,
   "id": "956a77b2",
   "metadata": {},
   "outputs": [],
   "source": []
  },
  {
   "cell_type": "code",
   "execution_count": 34,
   "id": "0417926e",
   "metadata": {},
   "outputs": [
    {
     "data": {
      "text/plain": [
       "[45, 45, 'pyweek', 100, 'adnan', 40, 20, 10, 10]"
      ]
     },
     "execution_count": 34,
     "metadata": {},
     "output_type": "execute_result"
    }
   ],
   "source": [
    "#to reverse a list\n",
    "mylist.reverse()\n",
    "mylist"
   ]
  },
  {
   "cell_type": "code",
   "execution_count": null,
   "id": "07c14090",
   "metadata": {},
   "outputs": [],
   "source": []
  },
  {
   "cell_type": "code",
   "execution_count": 35,
   "id": "5f5b3bb9",
   "metadata": {},
   "outputs": [],
   "source": [
    "#dictionaries....>>>> ::the data is in unorederd form.... no duplication is present"
   ]
  },
  {
   "cell_type": "code",
   "execution_count": 39,
   "id": "9e489f4e",
   "metadata": {},
   "outputs": [
    {
     "name": "stdout",
     "output_type": "stream",
     "text": [
      "{'reptiles': 'snakes', 'mamals': 'whales', 'frogs': 'amphhibians'}\n"
     ]
    }
   ],
   "source": [
    "#dictionary\n",
    "animals = { 'reptiles':'snakes',\n",
    "          'mamals':'whales','frogs':'amphhibians'}\n",
    "print(animals)"
   ]
  },
  {
   "cell_type": "code",
   "execution_count": 40,
   "id": "f0046a60",
   "metadata": {},
   "outputs": [],
   "source": [
    "#tuples are immutabe means not changable are ordered collections\n",
    "#list are mutable means changable"
   ]
  },
  {
   "cell_type": "code",
   "execution_count": null,
   "id": "34e785a5",
   "metadata": {},
   "outputs": [],
   "source": []
  }
 ],
 "metadata": {
  "kernelspec": {
   "display_name": "Python 3 (ipykernel)",
   "language": "python",
   "name": "python3"
  },
  "language_info": {
   "codemirror_mode": {
    "name": "ipython",
    "version": 3
   },
   "file_extension": ".py",
   "mimetype": "text/x-python",
   "name": "python",
   "nbconvert_exporter": "python",
   "pygments_lexer": "ipython3",
   "version": "3.9.7"
  }
 },
 "nbformat": 4,
 "nbformat_minor": 5
}
