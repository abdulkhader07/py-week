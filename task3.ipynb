{
 "cells": [
  {
   "cell_type": "code",
   "execution_count": 1,
   "id": "4a79e8c6",
   "metadata": {},
   "outputs": [],
   "source": [
    "#task3"
   ]
  },
  {
   "cell_type": "code",
   "execution_count": null,
   "id": "4ebd48ec",
   "metadata": {},
   "outputs": [],
   "source": []
  },
  {
   "cell_type": "code",
   "execution_count": null,
   "id": "dd043610",
   "metadata": {},
   "outputs": [],
   "source": [
    "#reading image\n",
    "import cv2\n",
    "#cv2.imread('path')\n",
    "img = cv2.imread('fruits.webp')\n",
    "#cv2.imshow('windowname',img)\n",
    "cv2.imshow('fruits',img)\n",
    "cv2.waitKey(0)\n",
    "cv2.destroyAllWindows()"
   ]
  },
  {
   "cell_type": "code",
   "execution_count": null,
   "id": "d05688f0",
   "metadata": {},
   "outputs": [],
   "source": [
    "#face detecter\n",
    "import cv2\n",
    "import numpy as np\n",
    "width=1280\n",
    "height=720\n",
    "cam=cv2.VideoCapture(0)\n",
    "cam.set(cv2.CAP_PROP_FRAME_WIDTH,width)\n",
    "cam.set(cv2.CAP_PROP_FRAME_HEIGHT,height)\n",
    "FaceCascade=cv2.CascadeClassifier('facefontal.xml')\n",
    "while True:\n",
    "    ignore, frame=cam.read()\n",
    "    grayframe=cv2.cvtColor(frame,cv2.COLOR_BGR2GRAY)\n",
    "    faces=FaceCascade.detectMultiscale(grayframe,1.3,5)\n",
    "    for face in faces:\n",
    "        x,y,w,h=face\n",
    "        cv2.rectangle(frame,(x,y)(x+w,y+h),(0,255,255),4)\n",
    "        cv2.imshow('web',frame)\n",
    "        if cv2.waitKey(1)==ord('q'):\n",
    "            break\n",
    "            cam.release()\n",
    "            cv2.destroyAllWindows()"
   ]
  },
  {
   "cell_type": "code",
   "execution_count": null,
   "id": "bced5f0f",
   "metadata": {},
   "outputs": [],
   "source": []
  },
  {
   "cell_type": "code",
   "execution_count": null,
   "id": "dd81f05f",
   "metadata": {},
   "outputs": [],
   "source": []
  }
 ],
 "metadata": {
  "kernelspec": {
   "display_name": "Python 3 (ipykernel)",
   "language": "python",
   "name": "python3"
  },
  "language_info": {
   "codemirror_mode": {
    "name": "ipython",
    "version": 3
   },
   "file_extension": ".py",
   "mimetype": "text/x-python",
   "name": "python",
   "nbconvert_exporter": "python",
   "pygments_lexer": "ipython3",
   "version": "3.9.7"
  }
 },
 "nbformat": 4,
 "nbformat_minor": 5
}
