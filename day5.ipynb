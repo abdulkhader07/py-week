{
 "cells": [
  {
   "cell_type": "code",
   "execution_count": 1,
   "id": "dd2db658",
   "metadata": {},
   "outputs": [],
   "source": [
    "#macine lerning"
   ]
  },
  {
   "cell_type": "code",
   "execution_count": 3,
   "id": "00fe878b",
   "metadata": {},
   "outputs": [
    {
     "data": {
      "text/plain": [
       "\"'we are working in a company and boss has given task of 2lacs forms to sort to correct the forms\\n4lacs forms to pick out errors it is immosibel to complete them in just 6days\\nin this type of scenarios we have to use machine power \\nwhat machine learnig is?\\nmachine learning is subset of AI(artificial inteligence)\\nwhich enables to learm from the past data (hystorical) or experiance and implementing on fresh data\\n\""
      ]
     },
     "execution_count": 3,
     "metadata": {},
     "output_type": "execute_result"
    }
   ],
   "source": [
    "''''we are working in a company and boss has given task of 2lacs forms to sort to correct the forms\n",
    "4lacs forms to pick out errors it is immosibel to complete them in just 6days\n",
    "in this type of scenarios we have to use machine power \n",
    "what machine learnig is?\n",
    "machine learning is subset of AI(artificial inteligence)\n",
    "which enables to learm from the past data (hystorical) or experiance and implementing on fresh data\n",
    "'''''"
   ]
  },
  {
   "cell_type": "code",
   "execution_count": 6,
   "id": "15d98e40",
   "metadata": {},
   "outputs": [],
   "source": [
    "\n",
    "#10k forms ......train the program\n",
    "#after training the program\n",
    "#you can give program 4lacs\n"
   ]
  },
  {
   "cell_type": "code",
   "execution_count": 7,
   "id": "349bdd8b",
   "metadata": {},
   "outputs": [],
   "source": [
    "#deep learning (DL)\n",
    "\n",
    "#AI...1980's\n",
    "#subset of AI is ML\n",
    "#subset of ML is DL\n",
    "#AI is the big thing...ML has some problems so DL is used"
   ]
  },
  {
   "cell_type": "code",
   "execution_count": 8,
   "id": "84ff9250",
   "metadata": {},
   "outputs": [],
   "source": [
    "#applications of ML\n",
    "#image recognition, speech recognition, email filtering, facebook auto tagging, recommender system"
   ]
  },
  {
   "cell_type": "code",
   "execution_count": 9,
   "id": "d2263c5c",
   "metadata": {},
   "outputs": [],
   "source": [
    "#example:\n",
    "    #you worked in uber office and your boss said to review all the ratings of month june\n",
    "#we have to see 1.review 2.rating 3.complaints 4.cancelled bookings "
   ]
  },
  {
   "cell_type": "code",
   "execution_count": null,
   "id": "022bef64",
   "metadata": {},
   "outputs": [],
   "source": [
    "#dataset in ML\n",
    "training set||testing set"
   ]
  },
  {
   "cell_type": "code",
   "execution_count": null,
   "id": "dd98f806",
   "metadata": {},
   "outputs": [],
   "source": [
    "resturant......\n",
    "900 reviews for training \n",
    "100 reviews for testing"
   ]
  },
  {
   "cell_type": "code",
   "execution_count": 10,
   "id": "e0687739",
   "metadata": {},
   "outputs": [],
   "source": [
    "#types of lernings in ML\n",
    "#what is learning phele tho.. the procesure that machine take data using different data\n",
    "# types of learning ...1.supervised learning means learning under some guidance\n",
    "#2.unsupervised learning means data is not labels and have meaning to it\n",
    "#3.Reinforcement learning"
   ]
  },
  {
   "cell_type": "code",
   "execution_count": 11,
   "id": "d699566a",
   "metadata": {},
   "outputs": [],
   "source": [
    "import numpy as np\n",
    "import pandas as pd"
   ]
  },
  {
   "cell_type": "code",
   "execution_count": null,
   "id": "d318a34e",
   "metadata": {},
   "outputs": [],
   "source": [
    "#if your data is in google colab or drive\n",
    "from google.colab import drive\n",
    "drive.mount('link')"
   ]
  },
  {
   "cell_type": "code",
   "execution_count": null,
   "id": "411066e8",
   "metadata": {},
   "outputs": [],
   "source": [
    "dataset=pd.read_csv"
   ]
  },
  {
   "cell_type": "code",
   "execution_count": null,
   "id": "3aa746a7",
   "metadata": {},
   "outputs": [],
   "source": [
    "dataset.head()"
   ]
  },
  {
   "cell_type": "code",
   "execution_count": null,
   "id": "b13defb0",
   "metadata": {},
   "outputs": [],
   "source": [
    "import re #regular expresion eg:!!!,..?\n",
    "import nltk #natural language tool kit\n",
    "\n",
    "nltk.download('stopwords')#stopwords file consists of 16 languages\n",
    "\n",
    "from nltk.corpus import stopwords\n",
    "from nltk.stm.porter import porter\n",
    "\n",
    "all_stopwords=stopwords"
   ]
  },
  {
   "cell_type": "code",
   "execution_count": null,
   "id": "3f7bfa76",
   "metadata": {},
   "outputs": [],
   "source": [
    "corpus=[]\n",
    "for i in range (0,900)\n",
    "review = re.sub('[^a-zA-Z]')"
   ]
  },
  {
   "cell_type": "code",
   "execution_count": null,
   "id": "9f03e1b8",
   "metadata": {},
   "outputs": [],
   "source": [
    "import pickle #it takes the data and serealizes data and store for future use"
   ]
  },
  {
   "cell_type": "code",
   "execution_count": null,
   "id": "b2334062",
   "metadata": {},
   "outputs": [],
   "source": []
  }
 ],
 "metadata": {
  "kernelspec": {
   "display_name": "Python 3 (ipykernel)",
   "language": "python",
   "name": "python3"
  },
  "language_info": {
   "codemirror_mode": {
    "name": "ipython",
    "version": 3
   },
   "file_extension": ".py",
   "mimetype": "text/x-python",
   "name": "python",
   "nbconvert_exporter": "python",
   "pygments_lexer": "ipython3",
   "version": "3.9.7"
  }
 },
 "nbformat": 4,
 "nbformat_minor": 5
}
