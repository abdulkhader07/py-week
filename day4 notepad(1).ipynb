{
 "cells": [
  {
   "cell_type": "code",
   "execution_count": 1,
   "id": "006afb23",
   "metadata": {},
   "outputs": [],
   "source": [
    "#he has done this code in vscode"
   ]
  },
  {
   "cell_type": "code",
   "execution_count": 3,
   "id": "d2bc6f1d",
   "metadata": {},
   "outputs": [],
   "source": [
    "#creating notepad\n",
    "from tkinter import*\n",
    "root=Tk()\n",
    "root.title(\"hello notepad\")\n",
    "root.geometry('300x300')\n",
    "\n",
    "\n",
    "my_frame=Frame(root)\n",
    "my_frame.pack()\n",
    "\n",
    "scr=Scrollbar(my_frame)\n",
    "scr.pack(side=RIGHT,fill=Y)    #fill is u=sed to go alog y axis which scrools down\n",
    "\n",
    "\n",
    "\n",
    "my_text=Text(my_frame)\n",
    "my_text.pack()\n",
    "\n",
    "\n",
    "\n",
    "\n",
    "\n",
    "\n",
    "root.mainloop()            #running success "
   ]
  },
  {
   "cell_type": "code",
   "execution_count": null,
   "id": "225c4e4c",
   "metadata": {},
   "outputs": [],
   "source": []
  },
  {
   "cell_type": "code",
   "execution_count": 6,
   "id": "d9ce2a67",
   "metadata": {},
   "outputs": [],
   "source": [
    "from tkinter import*\n",
    "root=Tk()\n",
    "root.title(\"hello notepad\")\n",
    "root.geometry('300x300')\n",
    "\n",
    "\n",
    "my_frame=Frame(root)\n",
    "my_frame.pack()\n",
    "\n",
    "scr=Scrollbar(my_frame)\n",
    "scr.pack(side=RIGHT,fill=Y)    #fill is u=sed to go alog y axis which scrools down\n",
    "\n",
    "\n",
    "\n",
    "my_text=Text(my_frame,width=500,height=500,yscrollcommand=scr.set)\n",
    "my_text.pack()\n",
    "\n",
    "\n",
    "\n",
    "\n",
    "\n",
    "\n",
    "root.mainloop()     #code running succes"
   ]
  },
  {
   "cell_type": "code",
   "execution_count": null,
   "id": "8dd3f2c3",
   "metadata": {},
   "outputs": [],
   "source": []
  },
  {
   "cell_type": "code",
   "execution_count": 11,
   "id": "01234a16",
   "metadata": {},
   "outputs": [],
   "source": [
    "from tkinter import*\n",
    "root=Tk()\n",
    "root.title(\"hello notepad\")\n",
    "root.geometry('300x300')\n",
    "\n",
    "\n",
    "my_frame=Frame(root)\n",
    "my_frame.pack()\n",
    "\n",
    "scr=Scrollbar(my_frame)\n",
    "scr.pack(side=RIGHT,fill=Y)    \n",
    "\n",
    "\n",
    "\n",
    "my_text=Text(my_frame,width=500,height=500,yscrollcommand=scr.set)\n",
    "my_text.pack()\n",
    "\n",
    "\n",
    "scr.config(command=my_text.yview)\n",
    "\n",
    "\n",
    "\n",
    "root.mainloop()     #done with scroll bar sucess"
   ]
  },
  {
   "cell_type": "code",
   "execution_count": null,
   "id": "5dac0971",
   "metadata": {},
   "outputs": [],
   "source": []
  },
  {
   "cell_type": "code",
   "execution_count": 5,
   "id": "7e0f97b8",
   "metadata": {},
   "outputs": [],
   "source": [
    "#creating menu bar for notepad"
   ]
  },
  {
   "cell_type": "code",
   "execution_count": 10,
   "id": "f59e8130",
   "metadata": {},
   "outputs": [],
   "source": [
    "from tkinter import*\n",
    "root=Tk()\n",
    "root.title(\"hello notepad\")\n",
    "root.geometry('300x300')\n",
    "\n",
    "\n",
    "my_frame=Frame(root)\n",
    "my_frame.pack()\n",
    "\n",
    "scr=Scrollbar(my_frame)\n",
    "scr.pack(side=RIGHT,fill=Y)    \n",
    "\n",
    "\n",
    "\n",
    "my_text=Text(my_frame,width=500,height=500,yscrollcommand=scr.set)\n",
    "my_text.pack()\n",
    "\n",
    "\n",
    "scr.config(command=my_text.yview)\n",
    "\n",
    "menubar=Menu(root)\n",
    "root.config(menu=menubar)\n",
    "file=Menu(menubar)\n",
    "menubar.add_cascade(label=\"file\",menu=file)\n",
    "\n",
    "\n",
    "\n",
    "root.mainloop() "
   ]
  },
  {
   "cell_type": "code",
   "execution_count": null,
   "id": "a063b261",
   "metadata": {},
   "outputs": [],
   "source": [
    "#adding options in options\n",
    "file.add_command(label=\"new file\")\n",
    "file.add_command(label=\"save file\")\n",
    "file.add_command(label=\"open file\")"
   ]
  },
  {
   "cell_type": "code",
   "execution_count": null,
   "id": "6e2d59cd",
   "metadata": {},
   "outputs": [],
   "source": [
    "#remove that doted line\n",
    "tearoff=0"
   ]
  },
  {
   "cell_type": "code",
   "execution_count": null,
   "id": "0abc10c4",
   "metadata": {},
   "outputs": [],
   "source": [
    "#to get seperator in options\n",
    "file.add_seperator()"
   ]
  },
  {
   "cell_type": "code",
   "execution_count": null,
   "id": "538cc249",
   "metadata": {},
   "outputs": [],
   "source": []
  }
 ],
 "metadata": {
  "kernelspec": {
   "display_name": "Python 3 (ipykernel)",
   "language": "python",
   "name": "python3"
  },
  "language_info": {
   "codemirror_mode": {
    "name": "ipython",
    "version": 3
   },
   "file_extension": ".py",
   "mimetype": "text/x-python",
   "name": "python",
   "nbconvert_exporter": "python",
   "pygments_lexer": "ipython3",
   "version": "3.9.7"
  }
 },
 "nbformat": 4,
 "nbformat_minor": 5
}
