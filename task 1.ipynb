{
 "cells": [
  {
   "cell_type": "code",
   "execution_count": null,
   "id": "9cce2e6b",
   "metadata": {},
   "outputs": [],
   "source": [
    "#task 1"
   ]
  },
  {
   "cell_type": "code",
   "execution_count": null,
   "id": "97f9804a",
   "metadata": {},
   "outputs": [],
   "source": []
  },
  {
   "cell_type": "code",
   "execution_count": 2,
   "id": "f3c46c3c",
   "metadata": {},
   "outputs": [
    {
     "name": "stdout",
     "output_type": "stream",
     "text": [
      "Student's Average Marks Calculator\n",
      "Enter name of the Student: mohd abdul khader\n",
      "Enter marks of Python: 90\n",
      "Enter marks of Java: 90\n",
      "Enter marks of C: 90\n",
      "Enter marks of C++: 90\n",
      "Marks recieved by  mohd abdul khader is 90.0 and Grade is B\n"
     ]
    }
   ],
   "source": [
    "print(\"Student's Average Marks Calculator\")\n",
    "sname=input('Enter name of the Student: ')\n",
    "mark1=int(input('Enter marks of Python: '))\n",
    "mark2=int(input('Enter marks of Java: '))\n",
    "mark3=int(input('Enter marks of C: '))\n",
    "mark4=int(input('Enter marks of C++: '))\n",
    "def avg(mark1,mark2,mark3,mark4):\n",
    "    return ((mark1+mark2+mark3+mark4)/4)\n",
    "if avg(mark1,mark2,mark3,mark4)>90:\n",
    "    print('Marks recieved by ',sname,'is',avg(mark1,mark2,mark3,mark4),'and Grade is A')\n",
    "elif avg(mark1,mark2,mark3,mark4)>80:\n",
    "    print('Marks recieved by ',sname,'is',avg(mark1,mark2,mark3,mark4),'and Grade is B')\n",
    "elif avg(mark1,mark2,mark3,mark4)>70:\n",
    "    print('Marks recieved by ',sname,'is',avg(mark1,mark2,mark3,mark4),'and Grade is C')\n",
    "elif avg(mark1,mark2,mark3,mark4)>50:\n",
    "    print('Marks recieved by ',sname,'is',avg(mark1,mark2,mark3,mark4),'and Grade is D')\n",
    "else:\n",
    "    print('Marks recieved by ',sname,'is',avg(mark1,mark2,mark3,mark4),'and Grade is F')"
   ]
  },
  {
   "cell_type": "code",
   "execution_count": null,
   "id": "a228fdcc",
   "metadata": {},
   "outputs": [],
   "source": []
  }
 ],
 "metadata": {
  "kernelspec": {
   "display_name": "Python 3 (ipykernel)",
   "language": "python",
   "name": "python3"
  },
  "language_info": {
   "codemirror_mode": {
    "name": "ipython",
    "version": 3
   },
   "file_extension": ".py",
   "mimetype": "text/x-python",
   "name": "python",
   "nbconvert_exporter": "python",
   "pygments_lexer": "ipython3",
   "version": "3.9.7"
  }
 },
 "nbformat": 4,
 "nbformat_minor": 5
}
